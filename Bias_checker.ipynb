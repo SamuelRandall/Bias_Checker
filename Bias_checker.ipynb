{
 "cells": [
  {
   "cell_type": "code",
   "execution_count": 11,
   "metadata": {},
   "outputs": [],
   "source": [
    "# Creating bias model\n",
    "\n",
    "from enum import Enum\n",
    "\n",
    "class SimplifiedBias(Enum):\n",
    "    LEFT = 0\n",
    "    UNBIASED = 1\n",
    "    RIGHT = 2\n",
    "    \n",
    "    @staticmethod\n",
    "    def get_simplified_bias_for_domain(domain):\n",
    "        return bias_to_simplified_bias[Bias.get_bias_for_domain(domain)]\n",
    "    \n",
    "\n",
    "class Bias(Enum):\n",
    "    EXTREME_LEFT = 0\n",
    "    LEFT = 1\n",
    "    LEFT_CENTER = 2\n",
    "    LEAST_BIASED = 3\n",
    "    RIGHT_CENTER = 4\n",
    "    RIGHT = 5\n",
    "    EXTREME_RIGHT = 6\n",
    "\n",
    "    @staticmethod\n",
    "    def get_bias_for_domain(domain):\n",
    "        return bias_by_domain[domain]\n",
    "\n",
    "bias_to_simplified_bias = {\n",
    "    Bias.EXTREME_LEFT : SimplifiedBias.LEFT,\n",
    "    Bias.LEFT : SimplifiedBias.LEFT,\n",
    "    Bias.LEFT_CENTER : SimplifiedBias.UNBIASED,\n",
    "    Bias.LEAST_BIASED : SimplifiedBias.UNBIASED,\n",
    "    Bias.RIGHT_CENTER : SimplifiedBias.UNBIASED,\n",
    "    Bias.RIGHT : SimplifiedBias.RIGHT,\n",
    "    Bias.EXTREME_RIGHT : SimplifiedBias.RIGHT\n",
    "}\n",
    "\n",
    "bias_by_domain = {\n",
    "    'dailykos.com': Bias.EXTREME_LEFT,\n",
    "    'talkingpointsmemo.com': Bias.LEFT,\n",
    "    'politicususa.com': Bias.LEFT,\n",
    "    'thenation.com': Bias.LEFT,\n",
    "    'motherjones.com': Bias.LEFT,\n",
    "    'occupydemocrats.com': Bias.EXTREME_LEFT,\n",
    "    'rawstory.com': Bias.LEFT,\n",
    "    'propublica.org': Bias.LEFT_CENTER,\n",
    "    'thenewcivilrightsmovement.com': Bias.LEFT,\n",
    "    'mediamatters.org': Bias.LEFT,\n",
    "    'slate.com': Bias.LEFT,\n",
    "    'thinkprogress.org': Bias.LEFT,\n",
    "    'oppositionreport.com': Bias.EXTREME_LEFT,\n",
    "    'democracynow.org': Bias.LEFT,\n",
    "    'washingtonpost.com/blogs/plum-line': Bias.LEFT_CENTER,\n",
    "    '100percentfedup.com': Bias.EXTREME_RIGHT,\n",
    "    'cnn.com': Bias.LEFT_CENTER,\n",
    "    'bbc.com': Bias.LEFT_CENTER,\n",
    "    'bloomberg.com': Bias.LEFT_CENTER,\n",
    "    'nytimes.com': Bias.LEFT_CENTER,\n",
    "    'forbes.com': Bias.RIGHT_CENTER,\n",
    "    'abcnews.go.com': Bias.LEFT_CENTER,\n",
    "    'wsj.com': Bias.RIGHT_CENTER,\n",
    "    'latimes.com': Bias.LEFT_CENTER,\n",
    "    'washingtonpost.com': Bias.LEFT_CENTER,\n",
    "    'nydailynews.com': Bias.LEFT_CENTER,\n",
    "    'sfchronicle.com': Bias.LEFT_CENTER,\n",
    "    'nypost.com': Bias.RIGHT_CENTER,\n",
    "    'chicagotribune.com': Bias.LEFT_CENTER,\n",
    "    'nj.com': Bias.LEFT_CENTER,\n",
    "    'chicago.suntimes.com': Bias.LEFT_CENTER,\n",
    "    'chron.com': Bias.LEFT_CENTER,\n",
    "    'dallasnews.com': Bias.RIGHT_CENTER,\n",
    "    'seattletimes.com': Bias.LEFT_CENTER,\n",
    "    'azcentral.com': Bias.RIGHT_CENTER,\n",
    "    'c-span.org': Bias.LEAST_BIASED,\n",
    "    'economist.com': Bias.LEAST_BIASED,\n",
    "    'reuters.com': Bias.LEAST_BIASED,\n",
    "    'ft.com': Bias.LEAST_BIASED,\n",
    "    'apnews.com': Bias.LEAST_BIASED,\n",
    "    'afp.com': Bias.LEAST_BIASED,\n",
    "    'usatoday.com': Bias.LEAST_BIASED,\n",
    "    'townhall.com': Bias.RIGHT,\n",
    "    'dailycaller.com': Bias.RIGHT,\n",
    "    'breitbart.com': Bias.RIGHT,\n",
    "    'dailywire.com': Bias.RIGHT,\n",
    "    'conservativetribune.com': Bias.EXTREME_RIGHT,\n",
    "    'thefederalistpapers.org': Bias.EXTREME_RIGHT,\n",
    "    'truthfeed.com': Bias.EXTREME_RIGHT,\n",
    "    'www1.cbn.com': Bias.RIGHT,\n",
    "    'ijr.com': Bias.RIGHT,\n",
    "    'freedomdaily.com': Bias.EXTREME_RIGHT,\n",
    "    'washingtonexaminer.com': Bias.RIGHT_CENTER,\n",
    "    'allenbwest.com': Bias.RIGHT,\n",
    "    'theblaze.com': Bias.RIGHT,\n",
    "    'louderwithcrowder.com': Bias.RIGHT,\n",
    "    'mrctv.org': Bias.RIGHT,\n",
    "    'rightwingnews.com': Bias.EXTREME_RIGHT,\n",
    "    'westernjournalism.com': Bias.RIGHT,\n",
    "    'judicialwatch.org': Bias.RIGHT,\n",
    "    'thegatewaypundit.com': Bias.EXTREME_RIGHT,\n",
    "    'conservative101.com': Bias.EXTREME_RIGHT,\n",
    "    'bizpacreview.com': Bias.RIGHT,\n",
    "    'usherald.com': Bias.EXTREME_RIGHT,\n",
    "    'redstate.com': Bias.RIGHT,\n",
    "    'youngcons.com': Bias.RIGHT\n",
    "}"
   ]
  },
  {
   "cell_type": "markdown",
   "metadata": {},
   "source": [
    "# Logistic regression bias classifier"
   ]
  },
  {
   "cell_type": "code",
   "execution_count": 19,
   "metadata": {},
   "outputs": [],
   "source": [
    "import pandas as pd\n",
    "import numpy as np\n",
    "import matplotlib.pyplot as plt\n",
    "\n",
    "df = pd.read_csv(\"data/source/newsclust.csv\")\n",
    "df = df.query(\"site != 'cbn.com'\")\n",
    "df['bias'] = df.apply(lambda row: Bias.get_bias_for_domain(row['site']), axis=1)\n",
    "\n",
    "df['simplified_bias'] = df.apply(lambda row: SimplifiedBias.get_simplified_bias_for_domain(row['site']), axis=1)"
   ]
  },
  {
   "cell_type": "code",
   "execution_count": 20,
   "metadata": {},
   "outputs": [],
   "source": [
    "TEST_DOMAINS =  {\n",
    "    'bloomberg.com',\n",
    "     'breitbart.com',\n",
    "     'bbc.com',\n",
    "     'ijr.com',\n",
    "     'wsj.com',\n",
    "     'nypost.com',\n",
    "     'talkingpointsmemo.com',\n",
    "     'motherhones.com',\n",
    "     'usatoday.com',\n",
    "     'afp.com',\n",
    "     'rightwingnews.com',\n",
    "     'occupydemocrats.com'\n",
    "}"
   ]
  },
  {
   "cell_type": "code",
   "execution_count": 21,
   "metadata": {},
   "outputs": [],
   "source": [
    "df_train =  df.loc[~df['site'].isin(TEST_DOMAINS)]\n",
    "df_test =  df.loc[df['site'].isin(TEST_DOMAINS)]"
   ]
  },
  {
   "cell_type": "code",
   "execution_count": 22,
   "metadata": {},
   "outputs": [],
   "source": [
    "bias_type = 'bias'\n",
    "\n",
    "X_train = df_train['text'].values\n",
    "y_train = df_train[bias_type].apply(lambda b: b.value).values\n",
    "\n",
    "X_test = df_test['text'].values\n",
    "y_test = df_test[bias_type].apply(lambda b: b.value).values"
   ]
  },
  {
   "cell_type": "code",
   "execution_count": 25,
   "metadata": {},
   "outputs": [],
   "source": [
    "from sklearn.base import BaseEstimator, TransformerMixin\n",
    "\n",
    "class DenseTransformer(BaseEstimator, TransformerMixin):\n",
    "\n",
    "    def transform(self, X, y=None, **fit_params):\n",
    "        return X.todense()\n",
    "\n",
    "    def fit_transform(self, X, y=None, **fit_params):\n",
    "        self.fit(X, y, **fit_params)\n",
    "        return self.transform(X)\n",
    "\n",
    "    def fit(self, X, y=None, **fit_params):\n",
    "        return self"
   ]
  },
  {
   "cell_type": "code",
   "execution_count": 42,
   "metadata": {},
   "outputs": [
    {
     "name": "stdout",
     "output_type": "stream",
     "text": [
      "{0: 2000, 1: 2000, 2: 2000, 3: 2000, 4: 2000, 5: 2000, 6: 2000}\n"
     ]
    }
   ],
   "source": [
    "ratio = dict((i, 2000) for i in range(7))\n",
    "print(ratio)"
   ]
  },
  {
   "cell_type": "markdown",
   "metadata": {},
   "source": [
    "# Pipeline"
   ]
  },
  {
   "cell_type": "code",
   "execution_count": 36,
   "metadata": {},
   "outputs": [],
   "source": [
    "from imblearn.pipeline import Pipeline\n",
    "\n",
    "\n",
    "from sklearn.decomposition import TruncatedSVD\n",
    "from sklearn.feature_extraction.text import TfidfVectorizer, CountVectorizer, TfidfTransformer\n",
    "from sklearn.linear_model import LogisticRegression\n",
    "from sklearn.metrics import accuracy_score, precision_score, recall_score, classification_report\n",
    "from sklearn.neighbors import KNeighborsClassifier\n",
    "# from sklearn.pipeline import Pipeline"
   ]
  },
  {
   "cell_type": "code",
   "execution_count": 37,
   "metadata": {},
   "outputs": [],
   "source": [
    "\n",
    "from sklearn.base import BaseEstimator, TransformerMixin\n",
    "\n",
    "class DenseTransformer(BaseEstimator, TransformerMixin):\n",
    "\n",
    "    def transform(self, X, y=None, **fit_params):\n",
    "        return X.todense()\n",
    "\n",
    "    def fit_transform(self, X, y=None, **fit_params):\n",
    "        self.fit(X, y, **fit_params)\n",
    "        return self.transform(X)\n",
    "\n",
    "    def fit(self, X, y=None, **fit_params):\n",
    "        return self"
   ]
  },
  {
   "cell_type": "code",
   "execution_count": 38,
   "metadata": {},
   "outputs": [],
   "source": [
    "ratio = dict((i, 2000) for i in range(7))\n",
    "\n",
    "pipeline = Pipeline([\n",
    "    ('vect', TfidfVectorizer()),\n",
    "#     ('vect', CountVectorizer()),\n",
    "#     ('trans', TfidfTransformer()),\n",
    "#     ('svd', TruncatedSVD(n_components=20)),\n",
    "#     ('samp', RandomUnderSampler(ratio=ratio)),\n",
    "    ('clf', LogisticRegression())\n",
    "])"
   ]
  },
  {
   "cell_type": "code",
   "execution_count": 39,
   "metadata": {},
   "outputs": [
    {
     "name": "stdout",
     "output_type": "stream",
     "text": [
      "CPU times: user 1min 49s, sys: 3.43 s, total: 1min 53s\n",
      "Wall time: 1min 56s\n"
     ]
    },
    {
     "data": {
      "text/plain": [
       "Pipeline(memory=None,\n",
       "     steps=[('vect', TfidfVectorizer(analyzer='word', binary=False, decode_error='strict',\n",
       "        dtype=<class 'numpy.int64'>, encoding='utf-8', input='content',\n",
       "        lowercase=True, max_df=1.0, max_features=None, min_df=1,\n",
       "        ngram_range=(1, 1), norm='l2', preprocessor=None, smooth_idf=True,\n",
       "  ...ty='l2', random_state=None, solver='liblinear', tol=0.0001,\n",
       "          verbose=0, warm_start=False))])"
      ]
     },
     "execution_count": 39,
     "metadata": {},
     "output_type": "execute_result"
    }
   ],
   "source": [
    "%time pipeline.fit(X_train, y_train)"
   ]
  },
  {
   "cell_type": "code",
   "execution_count": 40,
   "metadata": {},
   "outputs": [
    {
     "name": "stdout",
     "output_type": "stream",
     "text": [
      "             precision    recall  f1-score   support\n",
      "\n",
      "          0       0.69      0.01      0.01      2029\n",
      "          1       0.19      0.32      0.23      1798\n",
      "          2       0.25      0.61      0.35      3850\n",
      "          3       0.19      0.09      0.12      3949\n",
      "          4       0.10      0.02      0.03      3781\n",
      "          5       0.39      0.55      0.45      3722\n",
      "          6       0.31      0.12      0.17      1886\n",
      "\n",
      "avg / total       0.28      0.27      0.21     21015\n",
      "\n"
     ]
    }
   ],
   "source": [
    "best_clf = pipeline\n",
    "print(classification_report(df_test[bias_type].apply(lambda b: b.value).values, best_clf.predict(X_test)))"
   ]
  },
  {
   "cell_type": "markdown",
   "metadata": {},
   "source": [
    "# Cross validation"
   ]
  },
  {
   "cell_type": "code",
   "execution_count": 27,
   "metadata": {},
   "outputs": [],
   "source": [
    "from sklearn.model_selection import GridSearchCV"
   ]
  },
  {
   "cell_type": "code",
   "execution_count": 28,
   "metadata": {},
   "outputs": [],
   "source": [
    "\n",
    "param_grid = {\n",
    "#     'vect__ngram_range': ((1, 1), (1, 2)),\n",
    "#     'vect__max_df': (0.5, 0.75),\n",
    "#     'svd__n_components': [10, 20, 100],\n",
    "    'clf__C': [.1, 1, 10, 100, 1000]\n",
    "}"
   ]
  },
  {
   "cell_type": "code",
   "execution_count": 44,
   "metadata": {},
   "outputs": [
    {
     "name": "stdout",
     "output_type": "stream",
     "text": [
      "Fitting 3 folds for each of 5 candidates, totalling 15 fits\n",
      "[CV] clf__C=0.1 ......................................................\n",
      "[CV] clf__C=0.1 ......................................................\n",
      "[CV] clf__C=0.1 ......................................................\n",
      "[CV] clf__C=1 ........................................................\n",
      "[CV] clf__C=1 ........................................................\n",
      "[CV] clf__C=1 ........................................................\n",
      "[CV] ............. clf__C=0.1, score=0.6091983368589977, total= 3.9min\n"
     ]
    },
    {
     "name": "stderr",
     "output_type": "stream",
     "text": [
      "[Parallel(n_jobs=6)]: Done   1 tasks      | elapsed:  6.2min\n"
     ]
    },
    {
     "name": "stdout",
     "output_type": "stream",
     "text": [
      "[CV] clf__C=10 .......................................................\n",
      "[CV] ............. clf__C=0.1, score=0.6379486431281004, total= 4.3min\n",
      "[CV] clf__C=10 .......................................................\n",
      "[CV] ............. clf__C=0.1, score=0.6179549848611973, total= 4.5min\n",
      "[CV] clf__C=10 .......................................................\n",
      "[CV] ............... clf__C=1, score=0.7606681741921365, total= 5.7min\n",
      "[CV] ............... clf__C=1, score=0.7628027429238401, total= 5.9min\n",
      "[CV] clf__C=100 ......................................................\n",
      "[CV] ............... clf__C=1, score=0.7566483055484624, total= 5.7min\n"
     ]
    },
    {
     "name": "stderr",
     "output_type": "stream",
     "text": [
      "[Parallel(n_jobs=6)]: Done   6 out of  15 | elapsed:  9.5min remaining: 14.3min\n"
     ]
    },
    {
     "name": "stdout",
     "output_type": "stream",
     "text": [
      "[CV] clf__C=100 ......................................................\n",
      "[CV] clf__C=100 ......................................................\n",
      "[CV] .............. clf__C=10, score=0.8029032022758772, total= 8.6min\n",
      "[CV] .............. clf__C=10, score=0.7976364166909834, total= 8.2min\n",
      "[CV] clf__C=1000 .....................................................\n"
     ]
    },
    {
     "name": "stderr",
     "output_type": "stream",
     "text": [
      "[Parallel(n_jobs=6)]: Done   8 out of  15 | elapsed: 17.6min remaining: 15.4min\n"
     ]
    },
    {
     "name": "stdout",
     "output_type": "stream",
     "text": [
      "[CV] .............. clf__C=10, score=0.7909750848137744, total= 8.1min\n",
      "[CV] clf__C=1000 .....................................................\n",
      "[CV] clf__C=1000 .....................................................\n",
      "[CV] ............. clf__C=100, score=0.7987818221606244, total=10.3min\n",
      "[CV] ............... clf__C=100, score=0.79336883571637, total= 9.9min\n"
     ]
    },
    {
     "name": "stderr",
     "output_type": "stream",
     "text": [
      "[Parallel(n_jobs=6)]: Done  10 out of  15 | elapsed: 21.8min remaining: 10.9min\n"
     ]
    },
    {
     "name": "stdout",
     "output_type": "stream",
     "text": [
      "[CV] ............. clf__C=100, score=0.7865975996789845, total= 9.6min\n"
     ]
    },
    {
     "name": "stderr",
     "output_type": "stream",
     "text": [
      "[Parallel(n_jobs=6)]: Done  12 out of  15 | elapsed: 21.8min remaining:  5.4min\n"
     ]
    },
    {
     "name": "stdout",
     "output_type": "stream",
     "text": [
      "[CV] ............ clf__C=1000, score=0.7919979575461376, total= 7.4min\n",
      "[CV] ............ clf__C=1000, score=0.7818553241162952, total= 7.2min\n",
      "[CV] ............ clf__C=1000, score=0.7884082287715203, total= 7.6min\n"
     ]
    },
    {
     "name": "stderr",
     "output_type": "stream",
     "text": [
      "[Parallel(n_jobs=6)]: Done  15 out of  15 | elapsed: 26.2min finished\n"
     ]
    },
    {
     "name": "stdout",
     "output_type": "stream",
     "text": [
      "CPU times: user 2min 35s, sys: 39.1 s, total: 3min 14s\n",
      "Wall time: 28min 43s\n"
     ]
    }
   ],
   "source": [
    "%%time\n",
    "grid = GridSearchCV(pipeline, cv=3, n_jobs=6, param_grid=param_grid, verbose=10)\n",
    "grid.fit(X_train, y_train)"
   ]
  },
  {
   "cell_type": "code",
   "execution_count": 45,
   "metadata": {},
   "outputs": [
    {
     "name": "stdout",
     "output_type": "stream",
     "text": [
      "             precision    recall  f1-score   support\n",
      "\n",
      "          0       0.72      0.05      0.10      2029\n",
      "          1       0.20      0.32      0.24      1798\n",
      "          2       0.25      0.57      0.35      3850\n",
      "          3       0.25      0.12      0.17      3949\n",
      "          4       0.16      0.05      0.08      3781\n",
      "          5       0.37      0.50      0.43      3722\n",
      "          6       0.28      0.19      0.23      1886\n",
      "\n",
      "avg / total       0.30      0.27      0.24     21015\n",
      "\n"
     ]
    }
   ],
   "source": [
    "best_clf = grid.best_estimator_\n",
    "print(classification_report(df_test[bias_type].apply(lambda b: b.value).values, best_clf.predict(X_test)))"
   ]
  },
  {
   "cell_type": "markdown",
   "metadata": {},
   "source": [
    "# Visualization"
   ]
  },
  {
   "cell_type": "code",
   "execution_count": 47,
   "metadata": {},
   "outputs": [],
   "source": [
    "if bias_type == 'bias':\n",
    "    bias = [Bias(v) for v in best_clf.predict(X_test)]\n",
    "    cols = ['Bias.EXTREME_LEFT', 'Bias.LEFT', 'Bias.LEFT_CENTER', 'Bias.LEAST_BIASED', 'Bias.RIGHT_CENTER', 'Bias.RIGHT', 'Bias.EXTREME_RIGHT']\n",
    "    ticks = ['EXT_LEFT', 'LEFT', 'LEFT_CENTER', 'UNBIASED', 'RIGHT_CENTER', 'RIGHT', 'EXTREME_RIGHT']\n",
    "    k = 7\n",
    "elif bias_type == 'simplified_bias':\n",
    "    bias = [SimplifiedBias(v) for v in best_clf.predict(X_test)]\n",
    "    cols = ['SimplifiedBias.LEFT', 'SimplifiedBias.UNBIASED', 'SimplifiedBias.RIGHT']\n",
    "    ticks = ['LEFT', 'UNBIASED', 'RIGHT']\n",
    "    k = 3\n",
    "else:\n",
    "    raise ValueError\n",
    "\n",
    "df_test = df_test.assign(pred=pd.Series(bias).values)"
   ]
  },
  {
   "cell_type": "code",
   "execution_count": 48,
   "metadata": {},
   "outputs": [
    {
     "data": {
      "text/html": [
       "<div>\n",
       "<style scoped>\n",
       "    .dataframe tbody tr th:only-of-type {\n",
       "        vertical-align: middle;\n",
       "    }\n",
       "\n",
       "    .dataframe tbody tr th {\n",
       "        vertical-align: top;\n",
       "    }\n",
       "\n",
       "    .dataframe thead th {\n",
       "        text-align: right;\n",
       "    }\n",
       "</style>\n",
       "<table border=\"1\" class=\"dataframe\">\n",
       "  <thead>\n",
       "    <tr style=\"text-align: right;\">\n",
       "      <th>pred</th>\n",
       "      <th>Bias.EXTREME_LEFT</th>\n",
       "      <th>Bias.LEFT</th>\n",
       "      <th>Bias.LEFT_CENTER</th>\n",
       "      <th>Bias.LEAST_BIASED</th>\n",
       "      <th>Bias.RIGHT_CENTER</th>\n",
       "      <th>Bias.RIGHT</th>\n",
       "      <th>Bias.EXTREME_RIGHT</th>\n",
       "    </tr>\n",
       "    <tr>\n",
       "      <th>site</th>\n",
       "      <th></th>\n",
       "      <th></th>\n",
       "      <th></th>\n",
       "      <th></th>\n",
       "      <th></th>\n",
       "      <th></th>\n",
       "      <th></th>\n",
       "    </tr>\n",
       "  </thead>\n",
       "  <tbody>\n",
       "    <tr>\n",
       "      <th>afp.com</th>\n",
       "      <td>0.000000</td>\n",
       "      <td>0.140996</td>\n",
       "      <td>0.377639</td>\n",
       "      <td>0.381988</td>\n",
       "      <td>0.078670</td>\n",
       "      <td>0.020707</td>\n",
       "      <td>0.000000</td>\n",
       "    </tr>\n",
       "    <tr>\n",
       "      <th>bbc.com</th>\n",
       "      <td>0.006864</td>\n",
       "      <td>0.000000</td>\n",
       "      <td>0.497198</td>\n",
       "      <td>0.462039</td>\n",
       "      <td>0.016015</td>\n",
       "      <td>0.001061</td>\n",
       "      <td>0.016822</td>\n",
       "    </tr>\n",
       "    <tr>\n",
       "      <th>bloomberg.com</th>\n",
       "      <td>0.011403</td>\n",
       "      <td>0.012671</td>\n",
       "      <td>0.364231</td>\n",
       "      <td>0.438920</td>\n",
       "      <td>0.145300</td>\n",
       "      <td>0.024680</td>\n",
       "      <td>0.002795</td>\n",
       "    </tr>\n",
       "    <tr>\n",
       "      <th>breitbart.com</th>\n",
       "      <td>0.011974</td>\n",
       "      <td>0.158956</td>\n",
       "      <td>0.145208</td>\n",
       "      <td>0.073999</td>\n",
       "      <td>0.018266</td>\n",
       "      <td>0.321632</td>\n",
       "      <td>0.269965</td>\n",
       "    </tr>\n",
       "    <tr>\n",
       "      <th>ijr.com</th>\n",
       "      <td>0.075453</td>\n",
       "      <td>0.234206</td>\n",
       "      <td>0.083079</td>\n",
       "      <td>0.000000</td>\n",
       "      <td>0.005208</td>\n",
       "      <td>0.435634</td>\n",
       "      <td>0.166420</td>\n",
       "    </tr>\n",
       "    <tr>\n",
       "      <th>nypost.com</th>\n",
       "      <td>0.006844</td>\n",
       "      <td>0.071238</td>\n",
       "      <td>0.530147</td>\n",
       "      <td>0.023905</td>\n",
       "      <td>0.099482</td>\n",
       "      <td>0.186205</td>\n",
       "      <td>0.082179</td>\n",
       "    </tr>\n",
       "    <tr>\n",
       "      <th>occupydemocrats.com</th>\n",
       "      <td>0.324849</td>\n",
       "      <td>0.306152</td>\n",
       "      <td>0.000000</td>\n",
       "      <td>0.003777</td>\n",
       "      <td>0.000000</td>\n",
       "      <td>0.128690</td>\n",
       "      <td>0.236533</td>\n",
       "    </tr>\n",
       "    <tr>\n",
       "      <th>rightwingnews.com</th>\n",
       "      <td>0.040183</td>\n",
       "      <td>0.089298</td>\n",
       "      <td>0.031954</td>\n",
       "      <td>0.003374</td>\n",
       "      <td>0.013522</td>\n",
       "      <td>0.400685</td>\n",
       "      <td>0.420984</td>\n",
       "    </tr>\n",
       "    <tr>\n",
       "      <th>talkingpointsmemo.com</th>\n",
       "      <td>0.068527</td>\n",
       "      <td>0.389097</td>\n",
       "      <td>0.312927</td>\n",
       "      <td>0.025946</td>\n",
       "      <td>0.032423</td>\n",
       "      <td>0.061157</td>\n",
       "      <td>0.109923</td>\n",
       "    </tr>\n",
       "    <tr>\n",
       "      <th>usatoday.com</th>\n",
       "      <td>0.015432</td>\n",
       "      <td>0.021659</td>\n",
       "      <td>0.371220</td>\n",
       "      <td>0.007602</td>\n",
       "      <td>0.543747</td>\n",
       "      <td>0.000000</td>\n",
       "      <td>0.040340</td>\n",
       "    </tr>\n",
       "    <tr>\n",
       "      <th>wsj.com</th>\n",
       "      <td>0.000000</td>\n",
       "      <td>0.025497</td>\n",
       "      <td>0.647936</td>\n",
       "      <td>0.163794</td>\n",
       "      <td>0.108675</td>\n",
       "      <td>0.046183</td>\n",
       "      <td>0.007915</td>\n",
       "    </tr>\n",
       "  </tbody>\n",
       "</table>\n",
       "</div>"
      ],
      "text/plain": [
       "pred                   Bias.EXTREME_LEFT  Bias.LEFT  Bias.LEFT_CENTER  \\\n",
       "site                                                                    \n",
       "afp.com                         0.000000   0.140996          0.377639   \n",
       "bbc.com                         0.006864   0.000000          0.497198   \n",
       "bloomberg.com                   0.011403   0.012671          0.364231   \n",
       "breitbart.com                   0.011974   0.158956          0.145208   \n",
       "ijr.com                         0.075453   0.234206          0.083079   \n",
       "nypost.com                      0.006844   0.071238          0.530147   \n",
       "occupydemocrats.com             0.324849   0.306152          0.000000   \n",
       "rightwingnews.com               0.040183   0.089298          0.031954   \n",
       "talkingpointsmemo.com           0.068527   0.389097          0.312927   \n",
       "usatoday.com                    0.015432   0.021659          0.371220   \n",
       "wsj.com                         0.000000   0.025497          0.647936   \n",
       "\n",
       "pred                   Bias.LEAST_BIASED  Bias.RIGHT_CENTER  Bias.RIGHT  \\\n",
       "site                                                                      \n",
       "afp.com                         0.381988           0.078670    0.020707   \n",
       "bbc.com                         0.462039           0.016015    0.001061   \n",
       "bloomberg.com                   0.438920           0.145300    0.024680   \n",
       "breitbart.com                   0.073999           0.018266    0.321632   \n",
       "ijr.com                         0.000000           0.005208    0.435634   \n",
       "nypost.com                      0.023905           0.099482    0.186205   \n",
       "occupydemocrats.com             0.003777           0.000000    0.128690   \n",
       "rightwingnews.com               0.003374           0.013522    0.400685   \n",
       "talkingpointsmemo.com           0.025946           0.032423    0.061157   \n",
       "usatoday.com                    0.007602           0.543747    0.000000   \n",
       "wsj.com                         0.163794           0.108675    0.046183   \n",
       "\n",
       "pred                   Bias.EXTREME_RIGHT  \n",
       "site                                       \n",
       "afp.com                          0.000000  \n",
       "bbc.com                          0.016822  \n",
       "bloomberg.com                    0.002795  \n",
       "breitbart.com                    0.269965  \n",
       "ijr.com                          0.166420  \n",
       "nypost.com                       0.082179  \n",
       "occupydemocrats.com              0.236533  \n",
       "rightwingnews.com                0.420984  \n",
       "talkingpointsmemo.com            0.109923  \n",
       "usatoday.com                     0.040340  \n",
       "wsj.com                          0.007915  "
      ]
     },
     "execution_count": 48,
     "metadata": {},
     "output_type": "execute_result"
    }
   ],
   "source": [
    "dfc = df_test.copy()\n",
    "dfc['bias'] = dfc['bias'].astype(str)\n",
    "dfc['pred'] = dfc['pred'].astype(str)\n",
    "r = dfc.groupby(['site', 'pred']).apply(lambda g: len(g)).unstack().fillna(0)[cols]\n",
    "\n",
    "r = (r - r.mean(axis=0)) / np.sqrt(r.var(axis=0)) + (0 - ((r - r.mean(axis=0)) / np.sqrt(r.var(axis=0))).min())\n",
    "r = r / np.repeat(r.sum(axis=1).values[:, None], k, axis=1)\n",
    "r"
   ]
  },
  {
   "cell_type": "code",
   "execution_count": 51,
   "metadata": {},
   "outputs": [],
   "source": [
    "\n",
    "def viz(domain):\n",
    "    plt.figure(figsize=(15, 2))\n",
    "    plt.stem(r.loc[domain, :])\n",
    "    plt.xticks(range(k), ticks, rotation=45)\n",
    "    plt.title(domain, size=18)\n",
    "    plt.show()"
   ]
  },
  {
   "cell_type": "code",
   "execution_count": 52,
   "metadata": {},
   "outputs": [
    {
     "data": {
      "image/png": "[encoded data removed]",
      "text/plain": [
       "<matplotlib.figure.Figure at 0x1a254ae898>"
      ]
     },
     "metadata": {},
     "output_type": "display_data"
    }
   ],
   "source": [
    "viz('bloomberg.com')"
   ]
  },
  {
   "cell_type": "code",
   "execution_count": 53,
   "metadata": {},
   "outputs": [
    {
     "data": {
      "image/png": "[encoded data removed]",
      "text/plain": [
       "<matplotlib.figure.Figure at 0x1a253fda58>"
      ]
     },
     "metadata": {},
     "output_type": "display_data"
    }
   ],
   "source": [
    "viz('rightwingnews.com')"
   ]
  },
  {
   "cell_type": "code",
   "execution_count": 54,
   "metadata": {},
   "outputs": [
    {
     "data": {
      "image/png": "[encoded data removed]",
      "text/plain": [
       "<matplotlib.figure.Figure at 0x1a253fd940>"
      ]
     },
     "metadata": {},
     "output_type": "display_data"
    }
   ],
   "source": [
    "viz('ijr.com')"
   ]
  },
  {
   "cell_type": "code",
   "execution_count": null,
   "metadata": {},
   "outputs": [],
   "source": []
  }
 ],
 "metadata": {
  "kernelspec": {
   "display_name": "Python 3",
   "language": "python",
   "name": "python3"
  },
  "language_info": {
   "codemirror_mode": {
    "name": "ipython",
    "version": 3
   },
   "file_extension": ".py",
   "mimetype": "text/x-python",
   "name": "python",
   "nbconvert_exporter": "python",
   "pygments_lexer": "ipython3",
   "version": "3.6.4"
  }
 },
 "nbformat": 4,
 "nbformat_minor": 2
}
